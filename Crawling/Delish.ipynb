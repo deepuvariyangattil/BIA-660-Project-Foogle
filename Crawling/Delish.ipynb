{
 "cells": [
  {
   "cell_type": "markdown",
   "metadata": {},
   "source": [
    "Author: Deepu Variyangattil"
   ]
  },
  {
   "cell_type": "code",
   "execution_count": 31,
   "metadata": {},
   "outputs": [],
   "source": [
    "from bs4 import BeautifulSoup\n",
    "import requests\n",
    "from selenium import webdriver\n",
    "import pandas as pd\n",
    "from selenium.common.exceptions import TimeoutException\n",
    "from selenium.common.exceptions import NoSuchElementException\n",
    "import time\n",
    "import queue\n",
    "import re\n",
    "import csv"
   ]
  },
  {
   "cell_type": "code",
   "execution_count": 40,
   "metadata": {},
   "outputs": [],
   "source": [
    "options = webdriver.ChromeOptions()\n",
    "options.add_argument(\"headless\")\n",
    "\n",
    "driver = webdriver.Chrome(executable_path='F:\\Stevens_Masters\\Spring 19\\Web Mining\\Week 3\\chromedriver_win32\\chromedriver.exe')\n",
    "\n"
   ]
  },
  {
   "cell_type": "code",
   "execution_count": 106,
   "metadata": {},
   "outputs": [],
   "source": [
    "driver.get(\"https://www.delish.com/\")\n",
    "driver.execute_script(\"window.scrollTo(0, document.body.scrollHeight);\")"
   ]
  },
  {
   "cell_type": "code",
   "execution_count": 109,
   "metadata": {},
   "outputs": [],
   "source": [
    "links=driver.find_elements_by_xpath(\"//*[@class='nav-item']/a\")\n"
   ]
  },
  {
   "cell_type": "code",
   "execution_count": 110,
   "metadata": {},
   "outputs": [],
   "source": [
    "q=queue.Queue()\n",
    "for link in links:\n",
    "    a=link.get_attribute('href')\n",
    "    \n",
    "    q.put(a)\n",
    "    q.put(\"https://www.delish.com/cooking/\")\n",
    "    \n",
    "    "
   ]
  },
  {
   "cell_type": "code",
   "execution_count": 111,
   "metadata": {
    "scrolled": false
   },
   "outputs": [
    {
     "name": "stdout",
     "output_type": "stream",
     "text": [
      "Initial Queue empty\n"
     ]
    }
   ],
   "source": [
    "receipe_Queue=queue.Queue()\n",
    "while q.qsize()>0:\n",
    "    url=q.get()\n",
    "    \n",
    "    driver.get(url)\n",
    "    driver.execute_script(\"window.scrollTo(0, document.body.scrollHeight);\")\n",
    "    receipeLinks=driver.find_elements_by_xpath(\"//*[@class='full-item-content']/a\")\n",
    "    \n",
    "    for receipe in receipeLinks:\n",
    "        li=receipe.get_attribute('href')\n",
    "        \n",
    "        if re.match('^(.)+recipe\\/$',li) is not None:\n",
    "            receipe_Queue.put(li)\n",
    "            \n",
    "            \n",
    "print(\"Initial Queue empty\")        "
   ]
  },
  {
   "cell_type": "code",
   "execution_count": 114,
   "metadata": {},
   "outputs": [],
   "source": [
    "mydata=[[\"RECIPE\",\"INGREDIENTS\",\"URL\"]]\n",
    "myFile = open(\"recipelist.csv\", 'w',newline='')\n",
    "with myFile:\n",
    "    writer = csv.writer(myFile)\n",
    "    writer.writerows(mydata)"
   ]
  },
  {
   "cell_type": "code",
   "execution_count": 115,
   "metadata": {},
   "outputs": [
    {
     "name": "stdout",
     "output_type": "stream",
     "text": [
      "Queue finished\n"
     ]
    }
   ],
   "source": [
    "url_List=[]\n",
    "while receipe_Queue.qsize()>0:\n",
    "    url=receipe_Queue.get()\n",
    "    if url not in url_List:\n",
    "        url_List.append(url)\n",
    "        driver.get(url)\n",
    "        driver.execute_script(\"window.scrollTo(0, document.body.scrollHeight);\")\n",
    "        recipe_Name=driver.find_element_by_xpath(\"//*[@class='content-hed recipe-hed']\").text\n",
    "\n",
    "        ing_List=driver.find_elements_by_xpath(\"//*[@class='ingredient-description']\")\n",
    "    \n",
    "        s=\"\"\n",
    "        for ingre in ing_List:\n",
    "        \n",
    "        \n",
    "            p=ingre.text\n",
    "            p=p.replace(',',\"\")\n",
    "            if s==\"\":\n",
    "                s=p\n",
    "            else:\n",
    "                s=s+\",\"+p\n",
    "        \n",
    "    \n",
    "\n",
    "        mydata=[[recipe_Name,s,url]]\n",
    "        myFile = open(\"recipelist.csv\", 'a',newline='',encoding=\"utf-8\")\n",
    "        with myFile:\n",
    "            writer = csv.writer(myFile)\n",
    "            writer.writerows(mydata)\n",
    "print(\"Queue finished\")\n",
    "myFile.close()"
   ]
  },
  {
   "cell_type": "code",
   "execution_count": 116,
   "metadata": {},
   "outputs": [],
   "source": [
    "driver.close()"
   ]
  },
  {
   "cell_type": "code",
   "execution_count": 117,
   "metadata": {},
   "outputs": [
    {
     "name": "stdout",
     "output_type": "stream",
     "text": [
      "48\n"
     ]
    }
   ],
   "source": [
    "print(len(url_List))"
   ]
  },
  {
   "cell_type": "code",
   "execution_count": null,
   "metadata": {},
   "outputs": [],
   "source": []
  }
 ],
 "metadata": {
  "kernelspec": {
   "display_name": "Python 3",
   "language": "python",
   "name": "python3"
  },
  "language_info": {
   "codemirror_mode": {
    "name": "ipython",
    "version": 3
   },
   "file_extension": ".py",
   "mimetype": "text/x-python",
   "name": "python",
   "nbconvert_exporter": "python",
   "pygments_lexer": "ipython3",
   "version": "3.6.5"
  }
 },
 "nbformat": 4,
 "nbformat_minor": 2
}
