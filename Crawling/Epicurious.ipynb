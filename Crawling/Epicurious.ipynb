{
 "cells": [
  {
   "cell_type": "markdown",
   "metadata": {},
   "source": [
    "Author: Deepu Variyangattil\n"
   ]
  },
  {
   "cell_type": "code",
   "execution_count": 37,
   "metadata": {},
   "outputs": [],
   "source": [
    "from bs4 import BeautifulSoup\n",
    "import requests\n",
    "from selenium import webdriver\n",
    "import pandas as pd\n",
    "from selenium.common.exceptions import TimeoutException\n",
    "from selenium.common.exceptions import NoSuchElementException\n",
    "import time\n",
    "import queue\n",
    "import re\n",
    "import csv\n",
    "from selenium.webdriver.support.ui import WebDriverWait\n",
    "from selenium.webdriver.support import expected_conditions as EC\n",
    "from selenium.webdriver.common.by import By"
   ]
  },
  {
   "cell_type": "code",
   "execution_count": 2,
   "metadata": {},
   "outputs": [],
   "source": [
    "options = webdriver.ChromeOptions()\n",
    "options.add_argument(\"headless\")\n",
    "#driver = webdriver.Chrome(chrome_options=options)\n",
    "driver = webdriver.Chrome(executable_path='F:\\Stevens_Masters\\Spring 19\\Web Mining\\Week 3\\chromedriver_win32\\chromedriver.exe')\n",
    "\n"
   ]
  },
  {
   "cell_type": "code",
   "execution_count": 97,
   "metadata": {},
   "outputs": [],
   "source": [
    "driver.get(\"https://www.epicurious.com/search/\")\n",
    "driver.execute_script(\"window.scrollTo(0, document.body.scrollHeight);\")"
   ]
  },
  {
   "cell_type": "code",
   "execution_count": 99,
   "metadata": {},
   "outputs": [],
   "source": [
    "\n",
    "menu_object1=(driver.find_element_by_xpath(\"//h3[contains(text(),'Popular')]\"))\n",
    "menu_object2=(driver.find_element_by_xpath(\"//h3[contains(text(),'Meal & Course')]\"))\n",
    "menu_object3=(driver.find_element_by_xpath(\"//h3[contains(text(),'Dish Type')]\"))\n",
    "menu_object4=(driver.find_element_by_xpath(\"//h3[contains(text(),'Dietary Concerns')]\"))\n",
    "menu_object5=(driver.find_element_by_xpath(\"//div[@class='filter-group']//h3[contains(text(),'Ingredient')]\"))\n",
    "menu_object6=(driver.find_element_by_xpath(\"//h3[contains(text(),'Cuisine')]\"))\n",
    "menu_object7=(driver.find_element_by_xpath(\"//h3[contains(text(),'Holiday')]\"))\n",
    "menu_object8=(driver.find_element_by_xpath(\"//h3[contains(text(),'Technique')]\"))"
   ]
  },
  {
   "cell_type": "code",
   "execution_count": 100,
   "metadata": {},
   "outputs": [
    {
     "data": {
      "text/plain": [
       "<selenium.webdriver.remote.webelement.WebElement (session=\"8d29a92721860900adcde6cd086111a9\", element=\"0.8108463319414423-1\")>"
      ]
     },
     "execution_count": 100,
     "metadata": {},
     "output_type": "execute_result"
    }
   ],
   "source": [
    "menu_object1"
   ]
  },
  {
   "cell_type": "code",
   "execution_count": 101,
   "metadata": {},
   "outputs": [],
   "source": [
    "menu_object1.click()\n",
    "time.sleep(5)\n",
    "\n",
    "catgories=driver.find_elements_by_xpath(\"//div[@class='filter-item']/input[@type='checkbox']\")\n",
    "\n",
    "ids=[]\n",
    "q=queue.Queue()\n",
    "for cat in catgories:\n",
    "    ids.append(cat.get_attribute('id'))\n",
    "\n",
    "for i in ids: \n",
    "    a=driver.find_element_by_id(i)\n",
    "    \n",
    "    driver.execute_script(\"arguments[0].click();\", a)\n",
    "    time.sleep(5)\n",
    "    receipe_Links=(driver.find_elements_by_xpath(\"//*[contains(@href, 'recipe')]\"))\n",
    "    for recipe_link in receipe_Links:\n",
    "        \n",
    "        q.put(recipe_link.get_attribute('href'))\n",
    "    \n",
    "\n",
    "    "
   ]
  },
  {
   "cell_type": "code",
   "execution_count": 102,
   "metadata": {},
   "outputs": [
    {
     "data": {
      "text/plain": [
       "1496"
      ]
     },
     "execution_count": 102,
     "metadata": {},
     "output_type": "execute_result"
    }
   ],
   "source": [
    "q.qsize()"
   ]
  },
  {
   "cell_type": "code",
   "execution_count": 103,
   "metadata": {},
   "outputs": [],
   "source": [
    "mydata=[[\"RECIPE\",\"INGREDIENTS\",\"URL\"]]\n",
    "myFile = open(\"recipelist2.csv\", 'w',newline='')\n",
    "with myFile:\n",
    "    writer = csv.writer(myFile)\n",
    "    writer.writerows(mydata)"
   ]
  },
  {
   "cell_type": "code",
   "execution_count": 104,
   "metadata": {},
   "outputs": [
    {
     "name": "stdout",
     "output_type": "stream",
     "text": [
      "Queue finished\n"
     ]
    }
   ],
   "source": [
    "url_List=[]\n",
    "while q.qsize()>0:\n",
    "    url=q.get()\n",
    "    if re.match('(.)+recipes\\/food(.)+',url) is not None:\n",
    "        if url not in url_List:\n",
    "            url_List.append(url)\n",
    "            try:\n",
    "                \n",
    "                driver.get(url)\n",
    "                driver.execute_script(\"window.scrollTo(0, document.body.scrollHeight);\")\n",
    "                recipe_name=driver.find_element_by_xpath(\"//h1[@itemprop='name']\").text\n",
    "                ing_List=driver.find_elements_by_xpath(\"//li[@class='ingredient']\")\n",
    "                s=\"\"\n",
    "                for ingre in ing_List:\n",
    "        \n",
    "        \n",
    "                    p=ingre.text\n",
    "                    p=p.replace(',',\"\")\n",
    "                    if s==\"\":\n",
    "                        s=p\n",
    "                    else:\n",
    "                        s=s+\",\"+p\n",
    "            \n",
    "                mydata=[[recipe_name,s,url]]\n",
    "                myFile = open(\"recipelist2.csv\", 'a',newline='',encoding=\"utf-8\")\n",
    "                with myFile:\n",
    "                    writer = csv.writer(myFile)\n",
    "                    writer.writerows(mydata)\n",
    "            except Exception:\n",
    "                driver.find_element_by_xpath(\"//*[@class='bx-close-x-adaptive-1']\").click()\n",
    "print(\"Queue finished\")\n",
    "myFile.close()    "
   ]
  },
  {
   "cell_type": "code",
   "execution_count": 105,
   "metadata": {},
   "outputs": [
    {
     "data": {
      "text/plain": [
       "0"
      ]
     },
     "execution_count": 105,
     "metadata": {},
     "output_type": "execute_result"
    }
   ],
   "source": [
    "q.qsize()"
   ]
  },
  {
   "cell_type": "code",
   "execution_count": 106,
   "metadata": {},
   "outputs": [],
   "source": [
    "driver.close()"
   ]
  },
  {
   "cell_type": "code",
   "execution_count": 107,
   "metadata": {},
   "outputs": [
    {
     "data": {
      "text/plain": [
       "59"
      ]
     },
     "execution_count": 107,
     "metadata": {},
     "output_type": "execute_result"
    }
   ],
   "source": [
    "len(url_List)"
   ]
  },
  {
   "cell_type": "code",
   "execution_count": 108,
   "metadata": {},
   "outputs": [
    {
     "data": {
      "text/plain": [
       "['https://www.epicurious.com/recipes/food/views/big-batch-pancake-and-waffle-mix',\n",
       " 'https://www.epicurious.com/recipes/food/views/crispy-fried-shallots',\n",
       " 'https://www.epicurious.com/recipes/food/views/spinach-and-artichoke-melts',\n",
       " 'https://www.epicurious.com/recipes/food/views/za-atar-chicken-with-garlicky-yogurt',\n",
       " 'https://www.epicurious.com/recipes/food/views/roast-chicken-thighs-with-peas-and-mint',\n",
       " 'https://www.epicurious.com/recipes/food/views/chile-and-citrus-rubbed-chicken-with-potatoes',\n",
       " 'https://www.epicurious.com/recipes/food/views/chicken-saltimbocca-with-crunchy-pea-salad',\n",
       " 'https://www.epicurious.com/recipes/food/views/ginger-scallion-ramen-noodles',\n",
       " 'https://www.epicurious.com/recipes/food/views/cold-soba-noodles-with-jammy-eggs-and-peas',\n",
       " 'https://www.epicurious.com/recipes/food/views/weeknight-steak-and-rice-noodle-salad',\n",
       " 'https://www.epicurious.com/recipes/food/views/better-than-takeout-stir-fried-udon',\n",
       " 'https://www.epicurious.com/recipes/food/views/chicken-brodo-with-spring-vegetables-and-fried-bread',\n",
       " 'https://www.epicurious.com/recipes/food/views/brothy-noodle-bowl-with-mushrooms-and-chiles',\n",
       " 'https://www.epicurious.com/recipes/food/views/scrunched-cabbage-salad-with-grapefruit-and-chiles',\n",
       " 'https://www.epicurious.com/recipes/food/views/pickled-hot-chiles',\n",
       " 'https://www.epicurious.com/recipes/food/views/cashew-chicken',\n",
       " 'https://www.epicurious.com/recipes/food/views/little-wedge-salad-with-sour-cream-dressing',\n",
       " 'https://www.epicurious.com/recipes/food/views/ice-water-shaved-vegetable-salad',\n",
       " 'https://www.epicurious.com/recipes/food/views/everyday-greens-salad',\n",
       " 'https://www.epicurious.com/recipes/food/views/dinner-salad-with-radicchio-and-roasted-sweet-potatoes',\n",
       " 'https://www.epicurious.com/recipes/food/views/skirt-steak-with-spicy-coconut-dressing',\n",
       " 'https://www.epicurious.com/recipes/food/views/caramelized-onion-pasta',\n",
       " 'https://www.epicurious.com/recipes/food/views/avocado-peanut-butter-brownies',\n",
       " 'https://www.epicurious.com/recipes/food/views/peanut-butter-and-jelly-pbj-smoothie',\n",
       " 'https://www.epicurious.com/recipes/food/views/kimchi-and-miso-noodle-soup',\n",
       " 'https://www.epicurious.com/recipes/food/views/chicken-soup-with-caramelized-ginger',\n",
       " 'https://www.epicurious.com/recipes/food/views/chopped-blt-salad',\n",
       " 'https://www.epicurious.com/recipes/food/views/lemony-salmon-and-spiced-chickpeas',\n",
       " 'https://www.epicurious.com/recipes/food/views/black-lentil-and-harissa-roasted-veggie-bowl',\n",
       " 'https://www.epicurious.com/recipes/food/views/hazelnut-granola-and-chia-pudding-bowls',\n",
       " 'https://www.epicurious.com/recipes/food/views/raw-caramel-peanut-crunch-bars',\n",
       " 'https://www.epicurious.com/recipes/food/views/grilled-chicken-and-quinoa-with-matcha-dressing',\n",
       " 'https://www.epicurious.com/recipes/food/views/black-seed-bread',\n",
       " 'https://www.epicurious.com/recipes/food/views/winter-squash-frittata',\n",
       " 'https://www.epicurious.com/recipes/food/views/avocado-water',\n",
       " 'https://www.epicurious.com/recipes/food/views/brothy-poached-chicken-with-mushrooms-and-fresh-chile-51260240',\n",
       " 'https://www.epicurious.com/recipes/food/views/nextover-chicken-tacos-with-quick-refried-beans',\n",
       " 'https://www.epicurious.com/recipes/food/views/mexican-chicken-sliders-56389885',\n",
       " 'https://www.epicurious.com/recipes/food/views/garlic-curry-chicken-thighs-with-yogurt-sauce-56389736',\n",
       " 'https://www.epicurious.com/recipes/food/views/bibb-lettuce-chicken-and-cherry-salad-with-creamy-horseradish-dressing-56389687',\n",
       " 'https://www.epicurious.com/recipes/food/views/orange-chicken-51262710',\n",
       " 'https://www.epicurious.com/recipes/food/views/chicken-salad-with-creme-fraiche-and-rye-51236450',\n",
       " 'https://www.epicurious.com/recipes/food/views/grilled-chicken-with-arugula-and-warm-chickpeas-51234650',\n",
       " 'https://www.epicurious.com/recipes/food/views/crunchy-chicken-salad-stuffed-pita-51196230',\n",
       " 'https://www.epicurious.com/recipes/food/views/crispy-oven-fried-chicken-51186620',\n",
       " 'https://www.epicurious.com/recipes/food/views/citrus-marinated-chicken-thighs-51178850',\n",
       " 'https://www.epicurious.com/recipes/food/views/grilled-chicken-tacos-51175340',\n",
       " 'https://www.epicurious.com/recipes/food/views/rice-vermicelli-with-chicken-and-nuoc-cham-51170200',\n",
       " 'https://www.epicurious.com/recipes/food/views/chicken-breasts-with-tomato-herb-pan-sauce-366432',\n",
       " 'https://www.epicurious.com/recipes/food/views/lettuce-cups-with-stir-fried-chicken-365650',\n",
       " 'https://www.epicurious.com/recipes/food/views/grilled-chicken-and-plantains-jamaican-style-360031',\n",
       " 'https://www.epicurious.com/recipes/food/views/dill-chicken-paillards-with-tomato-dill-relish-354971',\n",
       " 'https://www.epicurious.com/recipes/food/views/chicken-and-watercress-salad-with-almonds-and-feta-353394',\n",
       " 'https://www.epicurious.com/recipes/food/views/pressed-chicken-with-yellow-squash-and-tomatoes-243169',\n",
       " 'https://www.epicurious.com/recipes/food/views/grilled-chicken-and-ratatouille-242469',\n",
       " 'https://www.epicurious.com/recipes/food/views/curried-chicken-green-bean-and-almond-salad-101963',\n",
       " 'https://www.epicurious.com/recipes/food/views/asian-chicken-salad-108162',\n",
       " 'https://www.epicurious.com/recipes/food/views/smoked-chicken-and-sugar-snap-pea-salad-with-mint-15241',\n",
       " 'https://www.epicurious.com/recipes/food/views/grilled-beef-chicken-shrimp-and-mushroom-skewers-232477']"
      ]
     },
     "execution_count": 108,
     "metadata": {},
     "output_type": "execute_result"
    }
   ],
   "source": [
    "url_List"
   ]
  },
  {
   "cell_type": "code",
   "execution_count": null,
   "metadata": {},
   "outputs": [],
   "source": []
  }
 ],
 "metadata": {
  "kernelspec": {
   "display_name": "Python 3",
   "language": "python",
   "name": "python3"
  },
  "language_info": {
   "codemirror_mode": {
    "name": "ipython",
    "version": 3
   },
   "file_extension": ".py",
   "mimetype": "text/x-python",
   "name": "python",
   "nbconvert_exporter": "python",
   "pygments_lexer": "ipython3",
   "version": "3.6.5"
  }
 },
 "nbformat": 4,
 "nbformat_minor": 2
}
